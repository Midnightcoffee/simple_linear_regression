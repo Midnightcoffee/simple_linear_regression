{
 "metadata": {
  "name": "",
  "signature": "sha256:cc2c21c1d175e6f0abac9c8fae7797fb4f63e2887340e6cee63d063a2b11e023"
 },
 "nbformat": 3,
 "nbformat_minor": 0,
 "worksheets": [
  {
   "cells": [
    {
     "cell_type": "code",
     "collapsed": false,
     "input": [
      "import pandas as pd\n",
      "#%matplotlib inline\n",
      "import matplotlib.pyplot as plt"
     ],
     "language": "python",
     "metadata": {},
     "outputs": [],
     "prompt_number": 111
    },
    {
     "cell_type": "code",
     "collapsed": false,
     "input": [
      "vis = pd.DataFrame({\n",
      "    'cells': [116,117,120,1,52,79,109,27,85,51,78,55,26,39,107],\n",
      "    'photo': [60,67,64,8,13,63,63,2,46,27,43,24,10,28,56]})"
     ],
     "language": "python",
     "metadata": {},
     "outputs": [],
     "prompt_number": 112
    },
    {
     "cell_type": "code",
     "collapsed": false,
     "input": [
      "graph = []\n",
      "def graph_all(graph): [g() for g in graph]"
     ],
     "language": "python",
     "metadata": {},
     "outputs": [],
     "prompt_number": 113
    },
    {
     "cell_type": "code",
     "collapsed": false,
     "input": [
      "def scatter(): return plt.scatter(x=vis.cells, y=vis.photo, color='g')\n",
      "graph = [scatter]\n",
      "graph_all(graph)"
     ],
     "language": "python",
     "metadata": {},
     "outputs": [
      {
       "metadata": {},
       "output_type": "display_data",
       "png": "[encoded data removed]",
       "text": [
        "<matplotlib.figure.Figure at 0x7fc95e74b610>"
       ]
      }
     ],
     "prompt_number": 114
    },
    {
     "cell_type": "code",
     "collapsed": false,
     "input": [
      "x_range = vis.cells.min(), vis.cells.max()\n",
      "y_mean = vis.photo.mean(), vis.photo.mean()\n",
      "def mean(): return plt.plot(x_range, y_mean, color=\"brown\")\n",
      "graph.append(mean)\n",
      "graph_all(graph)\n"
     ],
     "language": "python",
     "metadata": {},
     "outputs": [
      {
       "metadata": {},
       "output_type": "display_data",
       "png": "[encoded data removed]",
       "text": [
        "<matplotlib.figure.Figure at 0x7fc95d791790>"
       ]
      }
     ],
     "prompt_number": 115
    },
    {
     "cell_type": "markdown",
     "metadata": {},
     "source": [
      "The equations for the slope of the regression line can be constructed as:"
     ]
    },
    {
     "cell_type": "markdown",
     "metadata": {},
     "source": [
      "$$ \\hat\\beta = \\frac{ \\operatorname{Cov}[x,y] }{ \\operatorname{Var}[x] } $$"
     ]
    },
    {
     "cell_type": "code",
     "collapsed": false,
     "input": [
      "slope = vis.cells.cov(vis.photo)/ vis.cells.var()\n",
      "slope"
     ],
     "language": "python",
     "metadata": {},
     "outputs": [
      {
       "metadata": {},
       "output_type": "pyout",
       "prompt_number": 116,
       "text": [
        "0.57225117604575371"
       ]
      }
     ],
     "prompt_number": 116
    },
    {
     "cell_type": "markdown",
     "metadata": {},
     "source": [
      "The equation for the intercept of the regression line can be construted as:"
     ]
    },
    {
     "cell_type": "markdown",
     "metadata": {},
     "source": [
      "$$ \\hat\\alpha = \\bar{y} - \\hat\\beta\\,\\bar{x} $$"
     ]
    },
    {
     "cell_type": "code",
     "collapsed": false,
     "input": [
      "intercept = vis.photo.mean() - (slope * vis.cells.mean())\n",
      "intercept"
     ],
     "language": "python",
     "metadata": {},
     "outputs": [
      {
       "metadata": {},
       "output_type": "pyout",
       "prompt_number": 117,
       "text": [
        "-2.2487165973726917"
       ]
      }
     ],
     "prompt_number": 117
    },
    {
     "cell_type": "markdown",
     "metadata": {},
     "source": [
      "So we can construction the regression line by solving for our expected y:"
     ]
    },
    {
     "cell_type": "markdown",
     "metadata": {},
     "source": [
      "$$ \\hat{y} = (slope * x) + intercept $$"
     ]
    },
    {
     "cell_type": "code",
     "collapsed": false,
     "input": [
      "vis.expected = (vis.cells * slope) + intercept\n",
      "vis.expected"
     ],
     "language": "python",
     "metadata": {},
     "outputs": [
      {
       "metadata": {},
       "output_type": "pyout",
       "prompt_number": 118,
       "text": [
        "0     64.132420\n",
        "1     64.704671\n",
        "2     66.421425\n",
        "3     -1.676465\n",
        "4     27.508345\n",
        "5     42.959126\n",
        "6     60.126662\n",
        "7     13.202065\n",
        "8     46.392633\n",
        "9     26.936093\n",
        "10    42.386875\n",
        "11    29.225098\n",
        "12    12.629814\n",
        "13    20.069079\n",
        "14    58.982159\n",
        "Name: cells, dtype: float64"
       ]
      }
     ],
     "prompt_number": 118
    },
    {
     "cell_type": "code",
     "collapsed": false,
     "input": [
      "def regression(): return plt.plot(vis.cells, vis.expected)\n",
      "graph.append(regression)\n",
      "graph_all(graph)"
     ],
     "language": "python",
     "metadata": {},
     "outputs": [
      {
       "metadata": {},
       "output_type": "display_data",
       "png": "[encoded data removed]",
       "text": [
        "<matplotlib.figure.Figure at 0x7fc95e4b9710>"
       ]
      }
     ],
     "prompt_number": 119
    },
    {
     "cell_type": "markdown",
     "metadata": {},
     "source": [
      "SStotal:"
     ]
    },
    {
     "cell_type": "code",
     "collapsed": false,
     "input": [
      "def SStotal(): return [plt.plot((vis.cells[i], vis.cells[i]), (vis.photo.mean(), vis.photo[i]), color='black') for i in range(len(vis))]\n",
      "graph.append(SStotal)"
     ],
     "language": "python",
     "metadata": {},
     "outputs": [],
     "prompt_number": 120
    },
    {
     "cell_type": "code",
     "collapsed": false,
     "input": [
      "graph_all(graph)"
     ],
     "language": "python",
     "metadata": {},
     "outputs": [
      {
       "metadata": {},
       "output_type": "display_data",
       "png": "[encoded data removed]",
       "text": [
        "<matplotlib.figure.Figure at 0x7fc95ea8b6d0>"
       ]
      }
     ],
     "prompt_number": 121
    },
    {
     "cell_type": "markdown",
     "metadata": {},
     "source": [
      "SSregrssion"
     ]
    },
    {
     "cell_type": "code",
     "collapsed": false,
     "input": [
      "def SSreg(): return [plt.plot((vis.cells[i], vis.cells[i]), (vis.expected[i], vis.photo[i]), color='red') for i in range(len(vis))]\n",
      "graph.append(SSreg)\n",
      "graph_all(graph)"
     ],
     "language": "python",
     "metadata": {},
     "outputs": [
      {
       "metadata": {},
       "output_type": "display_data",
       "png": "[encoded data removed]",
       "text": [
        "<matplotlib.figure.Figure at 0x7fc95e0428d0>"
       ]
      }
     ],
     "prompt_number": 122
    },
    {
     "cell_type": "markdown",
     "metadata": {},
     "source": [
      "recall that to calculate SStotal we use the formula:\n"
     ]
    },
    {
     "cell_type": "markdown",
     "metadata": {},
     "source": [
      "$$ SS_{total} = \\sum\\limits_{x=i}^n(y_{i} - \\hat{y})^{2} $$"
     ]
    },
    {
     "cell_type": "code",
     "collapsed": false,
     "input": [
      "sum_of_squares = {'total' : ((vis.photo - vis.photo.mean())**2).sum()}\n",
      "sum_of_squares['total']"
     ],
     "language": "python",
     "metadata": {},
     "outputs": [
      {
       "metadata": {},
       "output_type": "pyout",
       "prompt_number": 124,
       "text": [
        "7684.9333333333334"
       ]
      }
     ],
     "prompt_number": 124
    },
    {
     "cell_type": "code",
     "collapsed": false,
     "input": [
      "sum_of_squares['regression'] = ((vis.photo - vis.expected)**2).sum()\n",
      "sum_of_squares['regression']"
     ],
     "language": "python",
     "metadata": {},
     "outputs": [
      {
       "metadata": {},
       "output_type": "pyout",
       "prompt_number": 126,
       "text": [
        "974.25824207999085"
       ]
      }
     ],
     "prompt_number": 126
    },
    {
     "cell_type": "markdown",
     "metadata": {},
     "source": [
      "now r squared is just.."
     ]
    },
    {
     "cell_type": "markdown",
     "metadata": {},
     "source": [
      "$$ R^{2} = 1 - \\frac{SS_{regression}}{SS_{total}} $$"
     ]
    },
    {
     "cell_type": "code",
     "collapsed": false,
     "input": [
      "r_squared = 1 - (sum_of_squares['regression']/sum_of_squares['total'])"
     ],
     "language": "python",
     "metadata": {},
     "outputs": [],
     "prompt_number": 127
    },
    {
     "cell_type": "code",
     "collapsed": false,
     "input": [
      "r_squared"
     ],
     "language": "python",
     "metadata": {},
     "outputs": [
      {
       "metadata": {},
       "output_type": "pyout",
       "prompt_number": 128,
       "text": [
        "0.8732248934607989"
       ]
      }
     ],
     "prompt_number": 128
    },
    {
     "cell_type": "code",
     "collapsed": false,
     "input": [],
     "language": "python",
     "metadata": {},
     "outputs": []
    }
   ],
   "metadata": {}
  }
 ]
}